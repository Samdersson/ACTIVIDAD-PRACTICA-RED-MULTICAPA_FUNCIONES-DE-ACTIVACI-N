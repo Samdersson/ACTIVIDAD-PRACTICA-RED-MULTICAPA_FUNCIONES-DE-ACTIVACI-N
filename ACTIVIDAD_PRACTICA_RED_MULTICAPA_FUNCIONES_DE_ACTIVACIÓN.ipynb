{
  "nbformat": 4,
  "nbformat_minor": 0,
  "metadata": {
    "colab": {
      "provenance": [],
      "authorship_tag": "ABX9TyPtDqpXl827l1hq2ckkR9iD",
      "include_colab_link": true
    },
    "kernelspec": {
      "name": "python3",
      "display_name": "Python 3"
    },
    "language_info": {
      "name": "python"
    }
  },
  "cells": [
    {
      "cell_type": "markdown",
      "metadata": {
        "id": "view-in-github",
        "colab_type": "text"
      },
      "source": [
        "<a href=\"https://colab.research.google.com/github/Samdersson/ACTIVIDAD-PRACTICA-RED-MULTICAPA_FUNCIONES-DE-ACTIVACI-N/blob/main/ACTIVIDAD_PRACTICA_RED_MULTICAPA_FUNCIONES_DE_ACTIVACI%C3%93N.ipynb\" target=\"_parent\"><img src=\"https://colab.research.google.com/assets/colab-badge.svg\" alt=\"Open In Colab\"/></a>"
      ]
    },
    {
      "cell_type": "markdown",
      "source": [
        "# ejercicio 1"
      ],
      "metadata": {
        "id": "TWJ19EZkK7uL"
      }
    },
    {
      "cell_type": "code",
      "execution_count": null,
      "metadata": {
        "colab": {
          "base_uri": "https://localhost:8080/"
        },
        "id": "juLia66cKqtb",
        "outputId": "0f9cafde-296c-4813-a2fe-a5987ede244c"
      },
      "outputs": [
        {
          "output_type": "stream",
          "name": "stdout",
          "text": [
            "Downloading data from https://www.cs.toronto.edu/~kriz/cifar-10-python.tar.gz\n",
            "\u001b[1m170498071/170498071\u001b[0m \u001b[32m━━━━━━━━━━━━━━━━━━━━\u001b[0m\u001b[37m\u001b[0m \u001b[1m11s\u001b[0m 0us/step\n"
          ]
        },
        {
          "output_type": "stream",
          "name": "stderr",
          "text": [
            "/usr/local/lib/python3.10/dist-packages/keras/src/layers/convolutional/base_conv.py:107: UserWarning: Do not pass an `input_shape`/`input_dim` argument to a layer. When using Sequential models, prefer using an `Input(shape)` object as the first layer in the model instead.\n",
            "  super().__init__(activity_regularizer=activity_regularizer, **kwargs)\n"
          ]
        },
        {
          "output_type": "stream",
          "name": "stdout",
          "text": [
            "Epoch 1/10\n",
            "\u001b[1m1563/1563\u001b[0m \u001b[32m━━━━━━━━━━━━━━━━━━━━\u001b[0m\u001b[37m\u001b[0m \u001b[1m186s\u001b[0m 118ms/step - accuracy: 0.3925 - loss: 1.6618 - val_accuracy: 0.6086 - val_loss: 1.1121\n",
            "Epoch 2/10\n",
            "\u001b[1m1563/1563\u001b[0m \u001b[32m━━━━━━━━━━━━━━━━━━━━\u001b[0m\u001b[37m\u001b[0m \u001b[1m196s\u001b[0m 114ms/step - accuracy: 0.6344 - loss: 1.0450 - val_accuracy: 0.6460 - val_loss: 1.0139\n",
            "Epoch 3/10\n",
            "\u001b[1m1563/1563\u001b[0m \u001b[32m━━━━━━━━━━━━━━━━━━━━\u001b[0m\u001b[37m\u001b[0m \u001b[1m206s\u001b[0m 117ms/step - accuracy: 0.6902 - loss: 0.8918 - val_accuracy: 0.6664 - val_loss: 0.9580\n",
            "Epoch 4/10\n",
            "\u001b[1m 764/1563\u001b[0m \u001b[32m━━━━━━━━━\u001b[0m\u001b[37m━━━━━━━━━━━\u001b[0m \u001b[1m1:26\u001b[0m 109ms/step - accuracy: 0.7238 - loss: 0.7969"
          ]
        }
      ],
      "source": [
        "# 1. Importar las bibliotecas necesarias\n",
        "import tensorflow as tf\n",
        "from tensorflow.keras import datasets, layers, models\n",
        "import matplotlib.pyplot as plt\n",
        "\n",
        "# 2. Cargar y preprocesar el dataset CIFAR-10\n",
        "(x_train, y_train), (x_test, y_test) = datasets.cifar10.load_data()\n",
        "\n",
        "# Normalizar las imágenes a valores entre 0 y 1\n",
        "x_train, x_test = x_train / 255.0, x_test / 255.0\n",
        "\n",
        "# 3. Definir la arquitectura de la red neuronal convolucional (CNN)\n",
        "model = models.Sequential()\n",
        "\n",
        "# Primera capa convolucional\n",
        "model.add(layers.Conv2D(32, (3, 3), activation='relu', input_shape=(32, 32, 3)))\n",
        "\n",
        "# Segunda capa convolucional\n",
        "model.add(layers.Conv2D(64, (3, 3), activation='relu'))\n",
        "\n",
        "# Capa de pooling\n",
        "model.add(layers.MaxPooling2D((2, 2)))\n",
        "\n",
        "# Capa de aplanamiento\n",
        "model.add(layers.Flatten())\n",
        "\n",
        "# Capa densa completamente conectada con 64 neuronas\n",
        "model.add(layers.Dense(64, activation='relu'))\n",
        "\n",
        "# Capa de salida con 10 neuronas (una para cada clase de CIFAR-10)\n",
        "model.add(layers.Dense(10))\n",
        "\n",
        "# 4. Compilar el modelo\n",
        "model.compile(optimizer='adam',\n",
        "              loss=tf.keras.losses.SparseCategoricalCrossentropy(from_logits=True),\n",
        "              metrics=['accuracy'])\n",
        "\n",
        "# 5. Entrenar el modelo\n",
        "history = model.fit(x_train, y_train, epochs=10,\n",
        "                    validation_data=(x_test, y_test))\n",
        "\n",
        "# 6. Evaluar el modelo\n",
        "test_loss, test_acc = model.evaluate(x_test, y_test, verbose=2)\n",
        "\n",
        "print(f'Precisión en el conjunto de prueba: {test_acc}')\n",
        "\n",
        "# 7. Graficar el historial de precisión y pérdida\n",
        "plt.plot(history.history['accuracy'], label='Precisión entrenamiento')\n",
        "plt.plot(history.history['val_accuracy'], label = 'Precisión validación')\n",
        "plt.xlabel('Épocas')\n",
        "plt.ylabel('Precisión')\n",
        "plt.ylim([0, 1])\n",
        "plt.legend(loc='lower right')\n",
        "plt.show()"
      ]
    },
    {
      "cell_type": "markdown",
      "source": [
        "#ejercicio 2"
      ],
      "metadata": {
        "id": "twmGg_0jLKgN"
      }
    },
    {
      "cell_type": "code",
      "source": [
        "from IPython import get_ipython\n",
        "from IPython.display import display\n",
        "# Importar las bibliotecas necesarias\n",
        "import torch\n",
        "import torch.nn as nn\n",
        "import torch.optim as optim\n",
        "from torch.utils.data import DataLoader\n",
        "from torchvision import datasets, transforms\n",
        "\n",
        "# Definir los hiperparámetros\n",
        "input_size = 784\n",
        "hidden_size = 128\n",
        "output_size = 10\n",
        "batch_size = 64\n",
        "learning_rate = 0.001\n",
        "num_epochs = 5\n",
        "\n",
        "# Descargar y cargar el dataset MNIST\n",
        "transform = transforms.Compose([transforms.ToTensor(), transforms.Normalize((0.5,), (0.5,))])\n",
        "train_dataset = datasets.MNIST(root='./data', train=True, transform=transform, download=True)\n",
        "test_dataset = datasets.MNIST(root='./data', train=False, transform=transform)\n",
        "train_loader = DataLoader(dataset=train_dataset, batch_size=batch_size, shuffle=True)\n",
        "test_loader = DataLoader(dataset=test_dataset, batch_size=batch_size, shuffle=False)\n",
        "\n",
        "# Definir el modelo de red neuronal\n",
        "class NeuralNet(nn.Module):\n",
        "    def __init__(self, input_size, hidden_size, output_size): # Changed _init_ to __init__\n",
        "        super(NeuralNet, self).__init__()\n",
        "        self.fc1 = nn.Linear(input_size, hidden_size)\n",
        "        self.relu = nn.ReLU()\n",
        "        self.fc2 = nn.Linear(hidden_size, output_size)\n",
        "\n",
        "    def forward(self, x):\n",
        "        x = x.view(-1, input_size)\n",
        "        x = self.fc1(x)\n",
        "        x = self.relu(x)\n",
        "        x = self.fc2(x)\n",
        "        return x\n",
        "\n",
        "model = NeuralNet(input_size, hidden_size, output_size)\n",
        "\n",
        "# Definir la función de pérdida y el optimizador\n",
        "criterion = nn.CrossEntropyLoss()\n",
        "optimizer = optim.Adam(model.parameters(), lr=learning_rate)\n",
        "\n",
        "# Entrenar el modelo\n",
        "for epoch in range(num_epochs):\n",
        "    for i, (images, labels) in enumerate(train_loader):\n",
        "        outputs = model(images)\n",
        "        loss = criterion(outputs, labels)\n",
        "        optimizer.zero_grad()\n",
        "        loss.backward()\n",
        "        optimizer.step()\n",
        "\n",
        "        if (i + 1) % 100 == 0:\n",
        "            print(f'Época [{epoch+1}/{num_epochs}], Lote [{i+1}/{len(train_loader)}], Pérdida: {loss.item():.4f}')\n",
        "\n",
        "# Evaluar el modelo\n",
        "model.eval()\n",
        "with torch.no_grad():\n",
        "    correct = 0\n",
        "    total = 0\n",
        "    for images, labels in test_loader:\n",
        "        outputs = model(images)\n",
        "        _, predicted = torch.max(outputs.data, 1)\n",
        "        total += labels.size(0)\n",
        "        correct += (predicted == labels).sum().item()\n",
        "\n",
        "    print(f'Precisión en el conjunto de prueba: {100 * correct / total}%')"
      ],
      "metadata": {
        "id": "-Ww74L1wLNKr"
      },
      "execution_count": null,
      "outputs": []
    }
  ]
}